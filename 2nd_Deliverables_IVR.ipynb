{
 "cells": [
  {
   "cell_type": "code",
   "execution_count": 1,
   "metadata": {
    "_cell_guid": "b1076dfc-b9ad-4769-8c92-a6c4dae69d19",
    "_uuid": "8f2839f25d086af736a60e9eeb907d3b93b6e0e5",
    "execution": {
     "iopub.execute_input": "2024-10-09T14:36:49.016481Z",
     "iopub.status.busy": "2024-10-09T14:36:49.015594Z",
     "iopub.status.idle": "2024-10-09T14:36:49.436577Z",
     "shell.execute_reply": "2024-10-09T14:36:49.435624Z",
     "shell.execute_reply.started": "2024-10-09T14:36:49.016435Z"
    }
   },
   "outputs": [
    {
     "name": "stdout",
     "output_type": "stream",
     "text": [
      "/kaggle/input/datasetsss/sentiment_statisticscc1e57a.csv\n",
      "/kaggle/input/datasetsss/customers2afd6ea.csv\n",
      "/kaggle/input/datasetsss/testbc7185d.csv\n",
      "/kaggle/input/datasetsss/callsf0d4f5a.csv\n",
      "/kaggle/input/datasetsss/reason18315ff.csv\n"
     ]
    }
   ],
   "source": [
    "# This Python 3 environment comes with many helpful analytics libraries installed\n",
    "# It is defined by the kaggle/python Docker image: https://github.com/kaggle/docker-python\n",
    "# For example, here's several helpful packages to load\n",
    "\n",
    "import numpy as np # linear algebra\n",
    "import pandas as pd # data processing, CSV file I/O (e.g. pd.read_csv)\n",
    "\n",
    "# Input data files are available in the read-only \"../input/\" directory\n",
    "# For example, running this (by clicking run or pressing Shift+Enter) will list all files under the input directory\n",
    "\n",
    "import os\n",
    "for dirname, _, filenames in os.walk('/kaggle/input'):\n",
    "    for filename in filenames:\n",
    "        print(os.path.join(dirname, filename))\n",
    "\n",
    "# You can write up to 20GB to the current directory (/kaggle/working/) that gets preserved as output when you create a version using \"Save & Run All\" \n",
    "# You can also write temporary files to /kaggle/temp/, but they won't be saved outside of the current session"
   ]
  },
  {
   "cell_type": "code",
   "execution_count": 2,
   "metadata": {
    "execution": {
     "iopub.execute_input": "2024-10-09T14:36:49.438787Z",
     "iopub.status.busy": "2024-10-09T14:36:49.438340Z",
     "iopub.status.idle": "2024-10-09T14:36:55.013658Z",
     "shell.execute_reply": "2024-10-09T14:36:55.012630Z",
     "shell.execute_reply.started": "2024-10-09T14:36:49.438749Z"
    }
   },
   "outputs": [],
   "source": [
    "calls = pd.read_csv(\"/kaggle/input/datasetsss/callsf0d4f5a.csv\")\n",
    "customers = pd.read_csv(\"/kaggle/input/datasetsss/customers2afd6ea.csv\")\n",
    "reason = pd.read_csv(\"/kaggle/input/datasetsss/reason18315ff.csv\")\n",
    "sentiments = pd.read_csv(\"/kaggle/input/datasetsss/sentiment_statisticscc1e57a.csv\")\n",
    "test = pd.read_csv(\"/kaggle/input/datasetsss/testbc7185d.csv\")"
   ]
  },
  {
   "cell_type": "code",
   "execution_count": 3,
   "metadata": {
    "execution": {
     "iopub.execute_input": "2024-10-09T14:36:55.015281Z",
     "iopub.status.busy": "2024-10-09T14:36:55.014937Z",
     "iopub.status.idle": "2024-10-09T14:36:55.027237Z",
     "shell.execute_reply": "2024-10-09T14:36:55.026142Z",
     "shell.execute_reply.started": "2024-10-09T14:36:55.015216Z"
    }
   },
   "outputs": [
    {
     "data": {
      "text/plain": [
       "\"\\n\\nAgent: Thank you for calling United Airlines customer service, my name is Sarah how may I help you?\\n\\nCustomer: Hi, yeah I'm calling because my flight from Chicago to New York was delayed by over 3 hours! This is ridiculous, I'm missing important meetings because of this. \\n\\nAgent: I'm so sorry to hear about the delay, that's definitely frustrating. Umm, let me pull up your reservation and take a look at what happened. *typing sounds* Okay, it looks like there was severe weather in Chicago that caused multiple flight cancellations and delays across the board for all the airlines. Ahh shoot, yeah your original flight was scheduled to depart at 2pm but didn't actually take off until after 5pm.\\n\\nCustomer: Ugh this is such poor planning on United's part, you should have rerouted passengers or put us on other flights that weren't delayed. Now I've wasted a whole day. \\n\\nAgent: I understand your frustration sir, delays are never fun. Let me see what options I have available to help make this up to you. Hmm, it looks like I can get you booked on a flight leaving at 3pm tomorrow that will have you landing in New York by 5pm. I'll waive the change fee and provide you with a travel voucher for $200 to help cover expenses from the missed meetings today. Does that work for your schedule?\\n\\nCustomer: I guess that's better than nothing. But you really need to get your act together, this is unacceptable customer service from United. Your delays are costing people time and money. \\n\\nAgent: You're right, we want to do better for our customers. I apologize again for the delay and inconvenience. Thank you for flying with us and I hope the rescheduled flight and travel credit help make up for some of the trouble today. Please feel free to reach back out if you have any other issues. Thanks for your patience and for understanding - I appreciate you taking the time to work through this with me.\\n\\nCustomer: Alright fine. This better not happen again next time I fly United. \\n\\nAgent: I'll be sure to note your record so we can try and avoid any repeats going forward. Take care and have a good rest of your day.\\n\\nCustomer: Yeah, you too. *hangs up*\\n\\nAgent: Thank you for your call, next caller please. *pretends to answer another call* Hi there, thank you for calling United how can I help?\""
      ]
     },
     "execution_count": 3,
     "metadata": {},
     "output_type": "execute_result"
    }
   ],
   "source": [
    "calls['call_transcript'][0]"
   ]
  },
  {
   "cell_type": "code",
   "execution_count": 4,
   "metadata": {
    "execution": {
     "iopub.execute_input": "2024-10-09T14:36:55.030665Z",
     "iopub.status.busy": "2024-10-09T14:36:55.030216Z",
     "iopub.status.idle": "2024-10-09T14:36:55.041492Z",
     "shell.execute_reply": "2024-10-09T14:36:55.040443Z",
     "shell.execute_reply.started": "2024-10-09T14:36:55.030620Z"
    }
   },
   "outputs": [],
   "source": [
    "calls_new = calls.copy()"
   ]
  },
  {
   "cell_type": "markdown",
   "metadata": {},
   "source": [
    "# # # # # # # # #  Cleaning the transcript"
   ]
  },
  {
   "cell_type": "code",
   "execution_count": 5,
   "metadata": {
    "execution": {
     "iopub.execute_input": "2024-10-09T14:36:55.044009Z",
     "iopub.status.busy": "2024-10-09T14:36:55.043094Z",
     "iopub.status.idle": "2024-10-09T14:36:55.051409Z",
     "shell.execute_reply": "2024-10-09T14:36:55.050383Z",
     "shell.execute_reply.started": "2024-10-09T14:36:55.043950Z"
    }
   },
   "outputs": [],
   "source": [
    "import re\n",
    "\n",
    "def clean_transcript(transcript):\n",
    "    # Removing agent dialogs\n",
    "    cleaned_transcript = re.sub(r'\\n*Agent:.*?(?=\\n|$)', '', transcript)\n",
    "    \n",
    "    # Removing all instances of \"Customer:\"\n",
    "    cleaned_transcript = re.sub(r'(?i)\\bCustomer:\\s*', '', cleaned_transcript)\n",
    "    \n",
    "    # Removing any leading/trailing whitespace and extra newlines\n",
    "    cleaned_transcript = re.sub(r'\\s+', ' ', cleaned_transcript).strip()\n",
    "    cleaned_transcript = re.sub(r'\\n+', '\\n', cleaned_transcript).strip()\n",
    "    \n",
    "    return cleaned_transcript\n"
   ]
  },
  {
   "cell_type": "code",
   "execution_count": 6,
   "metadata": {
    "execution": {
     "iopub.execute_input": "2024-10-09T14:36:55.053496Z",
     "iopub.status.busy": "2024-10-09T14:36:55.052992Z",
     "iopub.status.idle": "2024-10-09T14:37:18.292714Z",
     "shell.execute_reply": "2024-10-09T14:37:18.291665Z",
     "shell.execute_reply.started": "2024-10-09T14:36:55.053450Z"
    }
   },
   "outputs": [
    {
     "data": {
      "text/plain": [
       "\"Hi, yeah I'm calling because my flight from Chicago to New York was delayed by over 3 hours! This is ridiculous, I'm missing important meetings because of this. Ugh this is such poor planning on United's part, you should have rerouted passengers or put us on other flights that weren't delayed. Now I've wasted a whole day. I guess that's better than nothing. But you really need to get your act together, this is unacceptable customer service from United. Your delays are costing people time and money. Alright fine. This better not happen again next time I fly United. Yeah, you too. *hangs up*\""
      ]
     },
     "execution_count": 6,
     "metadata": {},
     "output_type": "execute_result"
    }
   ],
   "source": [
    "calls_new['cleaned_transcript'] = calls_new['call_transcript'].apply(clean_transcript)\n",
    "calls_new['cleaned_transcript'][0]"
   ]
  },
  {
   "cell_type": "code",
   "execution_count": 7,
   "metadata": {
    "execution": {
     "iopub.execute_input": "2024-10-09T14:37:18.294511Z",
     "iopub.status.busy": "2024-10-09T14:37:18.294197Z",
     "iopub.status.idle": "2024-10-09T14:37:18.315594Z",
     "shell.execute_reply": "2024-10-09T14:37:18.314695Z",
     "shell.execute_reply.started": "2024-10-09T14:37:18.294478Z"
    }
   },
   "outputs": [],
   "source": [
    "calls_new.drop('call_transcript', axis = 1, inplace = True)"
   ]
  },
  {
   "cell_type": "code",
   "execution_count": 8,
   "metadata": {
    "execution": {
     "iopub.execute_input": "2024-10-09T14:37:18.317181Z",
     "iopub.status.busy": "2024-10-09T14:37:18.316794Z",
     "iopub.status.idle": "2024-10-09T14:37:18.334550Z",
     "shell.execute_reply": "2024-10-09T14:37:18.333473Z",
     "shell.execute_reply.started": "2024-10-09T14:37:18.317137Z"
    }
   },
   "outputs": [
    {
     "data": {
      "text/plain": [
       "array(['Voluntary  Cancel', 'Booking', 'IRROPS', 'Upgrade', 'Seating',\n",
       "       'Mileage   Plus', 'Checkout', 'Voluntary   Change', 'Post Flight',\n",
       "       'Check In', 'Other  Topics', 'Communications', 'Schedule Change',\n",
       "       'Products & Services', 'IRROPS  ', 'Digital   Support',\n",
       "       'Seating  ', 'Disability', 'Unaccompanied Minor', ' Baggage',\n",
       "       'Traveler  Updates', 'Communications  ', 'ETC', 'Upgrade  ',\n",
       "       'Unaccompanied Minor  ', 'Voluntary Change', 'Voluntary Change  ',\n",
       "       'Checkout  ', 'Mileage Plus', 'Mileage Plus  ', 'Booking  ',\n",
       "       'Baggage  ', 'Post-Flight', 'Post-Flight  ', 'Schedule Change  ',\n",
       "       'Baggage', 'Traveler Updates', 'Voluntary Cancel', 'Check-In',\n",
       "       'Products and Services', 'Check-In  ', 'Other Topics',\n",
       "       'Other Topics  ', 'ETC  ', 'Disability  ', 'Digital Support',\n",
       "       'Digital Support  ', 'Voluntary Cancel  ',\n",
       "       'Products and Services  ', 'Traveler Updates  ',\n",
       "       'Traveler   Updates', 'Digital  Support', 'Mileage  Plus',\n",
       "       'Voluntary  Change'], dtype=object)"
      ]
     },
     "execution_count": 8,
     "metadata": {},
     "output_type": "execute_result"
    }
   ],
   "source": [
    "reason['primary_call_reason'].unique()"
   ]
  },
  {
   "cell_type": "code",
   "execution_count": 9,
   "metadata": {
    "execution": {
     "iopub.execute_input": "2024-10-09T14:37:18.336126Z",
     "iopub.status.busy": "2024-10-09T14:37:18.335772Z",
     "iopub.status.idle": "2024-10-09T14:37:18.415131Z",
     "shell.execute_reply": "2024-10-09T14:37:18.414343Z",
     "shell.execute_reply.started": "2024-10-09T14:37:18.336090Z"
    }
   },
   "outputs": [],
   "source": [
    "merged = pd.merge(calls_new, reason, on='call_id')\n",
    "without_test = merged[~merged['call_id'].isin(test['call_id'])]\n",
    "\n",
    "without_test.drop(columns=['customer_id', 'agent_id', 'call_start_datetime', 'call_end_datetime', 'agent_assigned_datetime'], inplace = True)"
   ]
  },
  {
   "cell_type": "markdown",
   "metadata": {},
   "source": [
    "# # # # # # # # Preparing primary_call_reason column"
   ]
  },
  {
   "cell_type": "code",
   "execution_count": 10,
   "metadata": {
    "execution": {
     "iopub.execute_input": "2024-10-09T14:37:18.418281Z",
     "iopub.status.busy": "2024-10-09T14:37:18.417942Z",
     "iopub.status.idle": "2024-10-09T14:37:18.611203Z",
     "shell.execute_reply": "2024-10-09T14:37:18.610421Z",
     "shell.execute_reply.started": "2024-10-09T14:37:18.418247Z"
    }
   },
   "outputs": [],
   "source": [
    "without_test['primary_call_reason'] = (\n",
    "    without_test['primary_call_reason']\n",
    "    .str.replace(r'\\s{2,}', ' ', regex=True)  # Replaced more than two spaces with one space\n",
    "    .str.replace(r'-', ' ', regex=True)      # Replaced hyphen with one space\n",
    "    .str.replace(r'&', 'and', regex=True)     # Replaced '&' with 'and'\n",
    "    .str.strip()                               # Removed leading and trailing spaces\n",
    ")"
   ]
  },
  {
   "cell_type": "code",
   "execution_count": 11,
   "metadata": {
    "execution": {
     "iopub.execute_input": "2024-10-09T14:37:18.612592Z",
     "iopub.status.busy": "2024-10-09T14:37:18.612266Z",
     "iopub.status.idle": "2024-10-09T14:37:18.624015Z",
     "shell.execute_reply": "2024-10-09T14:37:18.623015Z",
     "shell.execute_reply.started": "2024-10-09T14:37:18.612559Z"
    }
   },
   "outputs": [
    {
     "data": {
      "text/plain": [
       "array(['Voluntary Cancel', 'Booking', 'IRROPS', 'Upgrade', 'Seating',\n",
       "       'Mileage Plus', 'Checkout', 'Voluntary Change', 'Post Flight',\n",
       "       'Check In', 'Other Topics', 'Communications', 'Schedule Change',\n",
       "       'Products and Services', 'Digital Support', 'Disability',\n",
       "       'Unaccompanied Minor', 'Baggage', 'Traveler Updates', 'ETC'],\n",
       "      dtype=object)"
      ]
     },
     "execution_count": 11,
     "metadata": {},
     "output_type": "execute_result"
    }
   ],
   "source": [
    "without_test['primary_call_reason'].unique()"
   ]
  },
  {
   "cell_type": "code",
   "execution_count": null,
   "metadata": {
    "_kg_hide-output": true
   },
   "outputs": [],
   "source": [
    "test_data = calls_new[calls_new['call_id'].isin(test['call_id'])]\n",
    "test_data.drop(columns=['customer_id', 'agent_id', 'call_start_datetime', 'agent_assigned_datetime', 'call_end_datetime'], axis = 1, inplace = True)"
   ]
  },
  {
   "cell_type": "markdown",
   "metadata": {},
   "source": [
    "# # # # # # # Generating Bigrams"
   ]
  },
  {
   "cell_type": "code",
   "execution_count": 62,
   "metadata": {
    "execution": {
     "iopub.execute_input": "2024-10-09T16:10:58.406555Z",
     "iopub.status.busy": "2024-10-09T16:10:58.405797Z",
     "iopub.status.idle": "2024-10-09T16:11:17.177125Z",
     "shell.execute_reply": "2024-10-09T16:11:17.176288Z",
     "shell.execute_reply.started": "2024-10-09T16:10:58.406510Z"
    }
   },
   "outputs": [],
   "source": [
    "from sklearn.feature_extraction.text import CountVectorizer\n",
    "vectorizer = CountVectorizer(ngram_range=(2, 2), stop_words='english')\n",
    "\n",
    "\n",
    "def generate_bag_of_bigrams(df):\n",
    "    problem_bigrams = {}\n",
    "    \n",
    "    # Group by primary_call_reason and process each group\n",
    "    for problem_type, group in df.groupby('primary_call_reason'):\n",
    "        transcripts = group['cleaned_transcript'].values\n",
    "        \n",
    "        X = vectorizer.fit_transform(transcripts)\n",
    "        \n",
    "        bigram_counts = X.sum(axis=0)\n",
    "        bigrams = vectorizer.get_feature_names_out()\n",
    "        \n",
    "        bigram_count_dict = dict(zip(bigrams, bigram_counts.A1))\n",
    "        filtered_bigrams = {bigram: count for bigram, count in bigram_count_dict.items() if count > 50}\n",
    "        \n",
    "        # Storing the filtered bigram countings\n",
    "        problem_bigrams[problem_type] = filtered_bigrams\n",
    "    \n",
    "    return problem_bigrams\n",
    "\n",
    "\n",
    "problem_bigrams = generate_bag_of_bigrams(without_test)"
   ]
  },
  {
   "cell_type": "code",
   "execution_count": null,
   "metadata": {
    "_kg_hide-output": true
   },
   "outputs": [],
   "source": [
    "import matplotlib.pyplot as plt\n",
    "from wordcloud import WordCloud, STOPWORDS\n",
    "\n",
    "# Defining some custom stopwords beacuse of the repeatation\n",
    "custom_stopwords = set(STOPWORDS).union({\n",
    "    'flight', 'yeah', 'appreciate', 'really', 'calling', 'thank', 'help', 'let', 'need', 'good', 'booked', 'know', 'umm', 'new', 'york', 'san', 'francisco', 'chicago', 'day', 'rest', 'date', 'time'\n",
    "})\n",
    "\n",
    "def generate_wordclouds(problem_bigrams):\n",
    "    for problem_type, bigrams in problem_bigrams.items():\n",
    "        wordcloud_input = ' '.join([bigram for bigram, count in bigrams.items() for _ in range(count)])\n",
    "        \n",
    "        wordcloud = WordCloud(width=800, height=400, \n",
    "                              background_color='white', \n",
    "                              stopwords=custom_stopwords).generate(wordcloud_input)\n",
    "        \n",
    "        plt.figure(figsize=(10, 5))\n",
    "        plt.imshow(wordcloud, interpolation='bilinear')\n",
    "        plt.axis('off')\n",
    "        plt.title(f\"Word Cloud for {problem_type}\")\n",
    "        plt.show()\n",
    "\n",
    "\n",
    "generate_wordclouds(problem_bigrams)"
   ]
  },
  {
   "cell_type": "code",
   "execution_count": 15,
   "metadata": {
    "execution": {
     "iopub.execute_input": "2024-10-09T14:40:29.019828Z",
     "iopub.status.busy": "2024-10-09T14:40:29.019426Z",
     "iopub.status.idle": "2024-10-09T14:40:29.026527Z",
     "shell.execute_reply": "2024-10-09T14:40:29.025437Z",
     "shell.execute_reply.started": "2024-10-09T14:40:29.019788Z"
    }
   },
   "outputs": [],
   "source": [
    "urgency_keywords = ['immediately', 'urgent', 'asap', 'emergency', 'now', 'important', 'critical', 'hurry', 'fast']\n",
    "\n",
    "def tokenize(text):\n",
    "    text = text.lower()\n",
    "    return re.findall(r'\\b\\w+\\b', text)\n",
    "\n",
    "def classify_urgency(transcript, urgency_keywords):\n",
    "    words = tokenize(transcript)\n",
    "    for keyword in urgency_keywords:\n",
    "        if keyword in words:\n",
    "            return 1  # Urgent\n",
    "    return 0  # Not urgent\n"
   ]
  },
  {
   "cell_type": "code",
   "execution_count": 20,
   "metadata": {
    "execution": {
     "iopub.execute_input": "2024-10-09T14:50:02.726194Z",
     "iopub.status.busy": "2024-10-09T14:50:02.725511Z",
     "iopub.status.idle": "2024-10-09T14:50:02.739051Z",
     "shell.execute_reply": "2024-10-09T14:50:02.738150Z",
     "shell.execute_reply.started": "2024-10-09T14:50:02.726149Z"
    }
   },
   "outputs": [],
   "source": [
    "urgency_ana = without_test.copy()"
   ]
  },
  {
   "cell_type": "code",
   "execution_count": 22,
   "metadata": {
    "execution": {
     "iopub.execute_input": "2024-10-09T14:50:29.291182Z",
     "iopub.status.busy": "2024-10-09T14:50:29.290486Z",
     "iopub.status.idle": "2024-10-09T14:50:36.544941Z",
     "shell.execute_reply": "2024-10-09T14:50:36.544149Z",
     "shell.execute_reply.started": "2024-10-09T14:50:29.291143Z"
    }
   },
   "outputs": [],
   "source": [
    "urgency_ana['urgent'] = urgency_ana['cleaned_transcript'].apply(lambda x: classify_urgency(x, urgency_keywords))"
   ]
  },
  {
   "cell_type": "code",
   "execution_count": 26,
   "metadata": {
    "execution": {
     "iopub.execute_input": "2024-10-09T14:56:52.690510Z",
     "iopub.status.busy": "2024-10-09T14:56:52.690119Z",
     "iopub.status.idle": "2024-10-09T14:56:52.702682Z",
     "shell.execute_reply": "2024-10-09T14:56:52.701731Z",
     "shell.execute_reply.started": "2024-10-09T14:56:52.690475Z"
    }
   },
   "outputs": [
    {
     "data": {
      "text/html": [
       "<div>\n",
       "<style scoped>\n",
       "    .dataframe tbody tr th:only-of-type {\n",
       "        vertical-align: middle;\n",
       "    }\n",
       "\n",
       "    .dataframe tbody tr th {\n",
       "        vertical-align: top;\n",
       "    }\n",
       "\n",
       "    .dataframe thead th {\n",
       "        text-align: right;\n",
       "    }\n",
       "</style>\n",
       "<table border=\"1\" class=\"dataframe\">\n",
       "  <thead>\n",
       "    <tr style=\"text-align: right;\">\n",
       "      <th></th>\n",
       "      <th>call_id</th>\n",
       "      <th>cleaned_transcript</th>\n",
       "      <th>primary_call_reason</th>\n",
       "      <th>urgent</th>\n",
       "    </tr>\n",
       "  </thead>\n",
       "  <tbody>\n",
       "    <tr>\n",
       "      <th>0</th>\n",
       "      <td>4667960400</td>\n",
       "      <td>Hi, yeah I'm calling because my flight from Ch...</td>\n",
       "      <td>Voluntary Cancel</td>\n",
       "      <td>1</td>\n",
       "    </tr>\n",
       "    <tr>\n",
       "      <th>1</th>\n",
       "      <td>1122072124</td>\n",
       "      <td>Hi Sam, yeah I'm calling because I need to cha...</td>\n",
       "      <td>Booking</td>\n",
       "      <td>1</td>\n",
       "    </tr>\n",
       "    <tr>\n",
       "      <th>2</th>\n",
       "      <td>6834291559</td>\n",
       "      <td>Hi Steve, uh, I'm calling because I need to ma...</td>\n",
       "      <td>IRROPS</td>\n",
       "      <td>0</td>\n",
       "    </tr>\n",
       "    <tr>\n",
       "      <th>3</th>\n",
       "      <td>2266439882</td>\n",
       "      <td>Hi, yeah I'm calling because I'm having some i...</td>\n",
       "      <td>Upgrade</td>\n",
       "      <td>1</td>\n",
       "    </tr>\n",
       "    <tr>\n",
       "      <th>4</th>\n",
       "      <td>1211603231</td>\n",
       "      <td>Hi Sarah, thanks for taking my call. I'm calli...</td>\n",
       "      <td>Seating</td>\n",
       "      <td>0</td>\n",
       "    </tr>\n",
       "    <tr>\n",
       "      <th>...</th>\n",
       "      <td>...</td>\n",
       "      <td>...</td>\n",
       "      <td>...</td>\n",
       "      <td>...</td>\n",
       "    </tr>\n",
       "    <tr>\n",
       "      <th>66648</th>\n",
       "      <td>7569738090</td>\n",
       "      <td>Hi, yeah I'm calling because I have a problem ...</td>\n",
       "      <td>Mileage Plus</td>\n",
       "      <td>0</td>\n",
       "    </tr>\n",
       "    <tr>\n",
       "      <th>66649</th>\n",
       "      <td>1563273072</td>\n",
       "      <td>Hi Dave, yeah I'm calling in about a flight I ...</td>\n",
       "      <td>Post Flight</td>\n",
       "      <td>0</td>\n",
       "    </tr>\n",
       "    <tr>\n",
       "      <th>66650</th>\n",
       "      <td>8865997781</td>\n",
       "      <td>Hi, yeah I'm calling because I'm really not ha...</td>\n",
       "      <td>Upgrade</td>\n",
       "      <td>1</td>\n",
       "    </tr>\n",
       "    <tr>\n",
       "      <th>66651</th>\n",
       "      <td>8019240181</td>\n",
       "      <td>Hi Steven, umm I was hoping you could help me ...</td>\n",
       "      <td>Upgrade</td>\n",
       "      <td>0</td>\n",
       "    </tr>\n",
       "    <tr>\n",
       "      <th>66652</th>\n",
       "      <td>8210720833</td>\n",
       "      <td>Hi Steve, my name is Mark. I'm calling about m...</td>\n",
       "      <td>Digital Support</td>\n",
       "      <td>0</td>\n",
       "    </tr>\n",
       "  </tbody>\n",
       "</table>\n",
       "<p>66653 rows × 4 columns</p>\n",
       "</div>"
      ],
      "text/plain": [
       "          call_id                                 cleaned_transcript  \\\n",
       "0      4667960400  Hi, yeah I'm calling because my flight from Ch...   \n",
       "1      1122072124  Hi Sam, yeah I'm calling because I need to cha...   \n",
       "2      6834291559  Hi Steve, uh, I'm calling because I need to ma...   \n",
       "3      2266439882  Hi, yeah I'm calling because I'm having some i...   \n",
       "4      1211603231  Hi Sarah, thanks for taking my call. I'm calli...   \n",
       "...           ...                                                ...   \n",
       "66648  7569738090  Hi, yeah I'm calling because I have a problem ...   \n",
       "66649  1563273072  Hi Dave, yeah I'm calling in about a flight I ...   \n",
       "66650  8865997781  Hi, yeah I'm calling because I'm really not ha...   \n",
       "66651  8019240181  Hi Steven, umm I was hoping you could help me ...   \n",
       "66652  8210720833  Hi Steve, my name is Mark. I'm calling about m...   \n",
       "\n",
       "      primary_call_reason  urgent  \n",
       "0        Voluntary Cancel       1  \n",
       "1                 Booking       1  \n",
       "2                  IRROPS       0  \n",
       "3                 Upgrade       1  \n",
       "4                 Seating       0  \n",
       "...                   ...     ...  \n",
       "66648        Mileage Plus       0  \n",
       "66649         Post Flight       0  \n",
       "66650             Upgrade       1  \n",
       "66651             Upgrade       0  \n",
       "66652     Digital Support       0  \n",
       "\n",
       "[66653 rows x 4 columns]"
      ]
     },
     "execution_count": 26,
     "metadata": {},
     "output_type": "execute_result"
    }
   ],
   "source": [
    "urgency_ana"
   ]
  },
  {
   "cell_type": "code",
   "execution_count": 27,
   "metadata": {
    "execution": {
     "iopub.execute_input": "2024-10-09T14:57:02.510484Z",
     "iopub.status.busy": "2024-10-09T14:57:02.510104Z",
     "iopub.status.idle": "2024-10-09T14:57:02.524193Z",
     "shell.execute_reply": "2024-10-09T14:57:02.523455Z",
     "shell.execute_reply.started": "2024-10-09T14:57:02.510446Z"
    }
   },
   "outputs": [],
   "source": [
    "non_urgent_calls = urgency_ana[urgency_ana['urgent'] == 0]\n",
    "non_urgent_counts = non_urgent_calls.groupby('primary_call_reason').size()"
   ]
  },
  {
   "cell_type": "code",
   "execution_count": 29,
   "metadata": {
    "execution": {
     "iopub.execute_input": "2024-10-09T14:57:48.630436Z",
     "iopub.status.busy": "2024-10-09T14:57:48.629808Z",
     "iopub.status.idle": "2024-10-09T14:57:49.124654Z",
     "shell.execute_reply": "2024-10-09T14:57:49.123742Z",
     "shell.execute_reply.started": "2024-10-09T14:57:48.630398Z"
    }
   },
   "outputs": [
    {
     "data": {
      "image/png": "[encoded data removed]",
      "text/plain": [
       "<Figure size 1000x600 with 1 Axes>"
      ]
     },
     "metadata": {},
     "output_type": "display_data"
    }
   ],
   "source": [
    "import matplotlib.pyplot as plt\n",
    "non_urgent_counts.plot(kind='bar', color='skyblue', figsize=(10, 6), title='Count of Urgency = 0 for Each Primary Call Reason')\n",
    "plt.xlabel('Primary Call Reason')\n",
    "plt.ylabel('Count')\n",
    "plt.xticks(rotation=45, ha='right')\n",
    "plt.tight_layout()\n",
    "plt.show()"
   ]
  },
  {
   "cell_type": "code",
   "execution_count": 52,
   "metadata": {
    "execution": {
     "iopub.execute_input": "2024-10-09T15:37:23.800214Z",
     "iopub.status.busy": "2024-10-09T15:37:23.799412Z",
     "iopub.status.idle": "2024-10-09T15:37:23.809308Z",
     "shell.execute_reply": "2024-10-09T15:37:23.808287Z",
     "shell.execute_reply.started": "2024-10-09T15:37:23.800177Z"
    }
   },
   "outputs": [],
   "source": [
    "# Defined IVR-resolvable issues with associated keywords\n",
    "IVR_KEYWORDS = {\n",
    "    \"booking_change\": [\"change booking\", \"cancel booking\", \"modify booking\", \"reschedule flight\"],\n",
    "    \"flight_status\": [\"status of my flight\", \"delayed flight\", \"arrival time\", \"flight on time\"],\n",
    "    \"baggage_inquiry\": [\"lost baggage\", \"baggage status\", \"track my baggage\", \"baggage missing\", \"baggage policy\"],\n",
    "    \"refund_request\": [\"refund request\", \"refund status\", \"money back\", \"cancellation refund\"]\n",
    "}\n",
    "\n",
    "# Function to assess whether a transcript could be resolved via IVR\n",
    "def assess_ivr_suitability(transcript):\n",
    "    transcript = transcript.lower()\n",
    "    \n",
    "    # Default to agent intervention unless a match is found\n",
    "    ivr_resolvable = \"No IVR-resolvable issues identified. Likely requires agent intervention.\"\n",
    "    \n",
    "    # Check each issue type and corresponding keywords\n",
    "    for issue_type, keywords in IVR_KEYWORDS.items():\n",
    "        for keyword in keywords:\n",
    "            # If a keyword is found, mark it as IVR-resolvable\n",
    "            if re.search(rf\"\\b{keyword}\\b\", transcript):\n",
    "                ivr_resolvable = f\"Potential IVR-resolvable issue: {issue_type.replace('_', ' ').capitalize()}.\"\n",
    "                break\n",
    "        if \"IVR-resolvable\" in ivr_resolvable:\n",
    "            break\n",
    "    \n",
    "    return ivr_resolvable\n",
    "\n",
    "# Function to assess all transcript instances in the feature\n",
    "def assess_ivr_suitability_for_all_transcripts(df, transcript_col):\n",
    "    # Apply the IVR suitability check to each transcript in the feature column\n",
    "    df['ivr_suitability'] = df[transcript_col].apply(assess_ivr_suitability)\n",
    "    return df"
   ]
  },
  {
   "cell_type": "code",
   "execution_count": 53,
   "metadata": {
    "execution": {
     "iopub.execute_input": "2024-10-09T15:37:24.019571Z",
     "iopub.status.busy": "2024-10-09T15:37:24.019176Z",
     "iopub.status.idle": "2024-10-09T15:37:33.231112Z",
     "shell.execute_reply": "2024-10-09T15:37:33.230208Z",
     "shell.execute_reply.started": "2024-10-09T15:37:24.019535Z"
    }
   },
   "outputs": [
    {
     "data": {
      "text/html": [
       "<div>\n",
       "<style scoped>\n",
       "    .dataframe tbody tr th:only-of-type {\n",
       "        vertical-align: middle;\n",
       "    }\n",
       "\n",
       "    .dataframe tbody tr th {\n",
       "        vertical-align: top;\n",
       "    }\n",
       "\n",
       "    .dataframe thead th {\n",
       "        text-align: right;\n",
       "    }\n",
       "</style>\n",
       "<table border=\"1\" class=\"dataframe\">\n",
       "  <thead>\n",
       "    <tr style=\"text-align: right;\">\n",
       "      <th></th>\n",
       "      <th>call_id</th>\n",
       "      <th>cleaned_transcript</th>\n",
       "      <th>primary_call_reason</th>\n",
       "      <th>urgent</th>\n",
       "      <th>ivr_suitability</th>\n",
       "    </tr>\n",
       "  </thead>\n",
       "  <tbody>\n",
       "    <tr>\n",
       "      <th>0</th>\n",
       "      <td>4667960400</td>\n",
       "      <td>Hi, yeah I'm calling because my flight from Ch...</td>\n",
       "      <td>Voluntary Cancel</td>\n",
       "      <td>NaN</td>\n",
       "      <td>No IVR-resolvable issues identified. Likely re...</td>\n",
       "    </tr>\n",
       "    <tr>\n",
       "      <th>1</th>\n",
       "      <td>1122072124</td>\n",
       "      <td>Hi Sam, yeah I'm calling because I need to cha...</td>\n",
       "      <td>Booking</td>\n",
       "      <td>NaN</td>\n",
       "      <td>No IVR-resolvable issues identified. Likely re...</td>\n",
       "    </tr>\n",
       "    <tr>\n",
       "      <th>2</th>\n",
       "      <td>6834291559</td>\n",
       "      <td>Hi Steve, uh, I'm calling because I need to ma...</td>\n",
       "      <td>IRROPS</td>\n",
       "      <td>NaN</td>\n",
       "      <td>No IVR-resolvable issues identified. Likely re...</td>\n",
       "    </tr>\n",
       "    <tr>\n",
       "      <th>3</th>\n",
       "      <td>2266439882</td>\n",
       "      <td>Hi, yeah I'm calling because I'm having some i...</td>\n",
       "      <td>Upgrade</td>\n",
       "      <td>NaN</td>\n",
       "      <td>No IVR-resolvable issues identified. Likely re...</td>\n",
       "    </tr>\n",
       "    <tr>\n",
       "      <th>4</th>\n",
       "      <td>1211603231</td>\n",
       "      <td>Hi Sarah, thanks for taking my call. I'm calli...</td>\n",
       "      <td>Seating</td>\n",
       "      <td>NaN</td>\n",
       "      <td>No IVR-resolvable issues identified. Likely re...</td>\n",
       "    </tr>\n",
       "    <tr>\n",
       "      <th>...</th>\n",
       "      <td>...</td>\n",
       "      <td>...</td>\n",
       "      <td>...</td>\n",
       "      <td>...</td>\n",
       "      <td>...</td>\n",
       "    </tr>\n",
       "    <tr>\n",
       "      <th>66648</th>\n",
       "      <td>7569738090</td>\n",
       "      <td>Hi, yeah I'm calling because I have a problem ...</td>\n",
       "      <td>Mileage Plus</td>\n",
       "      <td>NaN</td>\n",
       "      <td>No IVR-resolvable issues identified. Likely re...</td>\n",
       "    </tr>\n",
       "    <tr>\n",
       "      <th>66649</th>\n",
       "      <td>1563273072</td>\n",
       "      <td>Hi Dave, yeah I'm calling in about a flight I ...</td>\n",
       "      <td>Post Flight</td>\n",
       "      <td>NaN</td>\n",
       "      <td>No IVR-resolvable issues identified. Likely re...</td>\n",
       "    </tr>\n",
       "    <tr>\n",
       "      <th>66650</th>\n",
       "      <td>8865997781</td>\n",
       "      <td>Hi, yeah I'm calling because I'm really not ha...</td>\n",
       "      <td>Upgrade</td>\n",
       "      <td>NaN</td>\n",
       "      <td>No IVR-resolvable issues identified. Likely re...</td>\n",
       "    </tr>\n",
       "    <tr>\n",
       "      <th>66651</th>\n",
       "      <td>8019240181</td>\n",
       "      <td>Hi Steven, umm I was hoping you could help me ...</td>\n",
       "      <td>Upgrade</td>\n",
       "      <td>1.0</td>\n",
       "      <td>No IVR-resolvable issues identified. Likely re...</td>\n",
       "    </tr>\n",
       "    <tr>\n",
       "      <th>66652</th>\n",
       "      <td>8210720833</td>\n",
       "      <td>Hi Steve, my name is Mark. I'm calling about m...</td>\n",
       "      <td>Digital Support</td>\n",
       "      <td>NaN</td>\n",
       "      <td>No IVR-resolvable issues identified. Likely re...</td>\n",
       "    </tr>\n",
       "  </tbody>\n",
       "</table>\n",
       "<p>66653 rows × 5 columns</p>\n",
       "</div>"
      ],
      "text/plain": [
       "          call_id                                 cleaned_transcript  \\\n",
       "0      4667960400  Hi, yeah I'm calling because my flight from Ch...   \n",
       "1      1122072124  Hi Sam, yeah I'm calling because I need to cha...   \n",
       "2      6834291559  Hi Steve, uh, I'm calling because I need to ma...   \n",
       "3      2266439882  Hi, yeah I'm calling because I'm having some i...   \n",
       "4      1211603231  Hi Sarah, thanks for taking my call. I'm calli...   \n",
       "...           ...                                                ...   \n",
       "66648  7569738090  Hi, yeah I'm calling because I have a problem ...   \n",
       "66649  1563273072  Hi Dave, yeah I'm calling in about a flight I ...   \n",
       "66650  8865997781  Hi, yeah I'm calling because I'm really not ha...   \n",
       "66651  8019240181  Hi Steven, umm I was hoping you could help me ...   \n",
       "66652  8210720833  Hi Steve, my name is Mark. I'm calling about m...   \n",
       "\n",
       "      primary_call_reason  urgent  \\\n",
       "0        Voluntary Cancel     NaN   \n",
       "1                 Booking     NaN   \n",
       "2                  IRROPS     NaN   \n",
       "3                 Upgrade     NaN   \n",
       "4                 Seating     NaN   \n",
       "...                   ...     ...   \n",
       "66648        Mileage Plus     NaN   \n",
       "66649         Post Flight     NaN   \n",
       "66650             Upgrade     NaN   \n",
       "66651             Upgrade     1.0   \n",
       "66652     Digital Support     NaN   \n",
       "\n",
       "                                         ivr_suitability  \n",
       "0      No IVR-resolvable issues identified. Likely re...  \n",
       "1      No IVR-resolvable issues identified. Likely re...  \n",
       "2      No IVR-resolvable issues identified. Likely re...  \n",
       "3      No IVR-resolvable issues identified. Likely re...  \n",
       "4      No IVR-resolvable issues identified. Likely re...  \n",
       "...                                                  ...  \n",
       "66648  No IVR-resolvable issues identified. Likely re...  \n",
       "66649  No IVR-resolvable issues identified. Likely re...  \n",
       "66650  No IVR-resolvable issues identified. Likely re...  \n",
       "66651  No IVR-resolvable issues identified. Likely re...  \n",
       "66652  No IVR-resolvable issues identified. Likely re...  \n",
       "\n",
       "[66653 rows x 5 columns]"
      ]
     },
     "execution_count": 53,
     "metadata": {},
     "output_type": "execute_result"
    }
   ],
   "source": [
    "assess_ivr_suitability_for_all_transcripts(without_test, 'cleaned_transcript')"
   ]
  }
 ],
 "metadata": {
  "kaggle": {
   "accelerator": "gpu",
   "dataSources": [
    {
     "datasetId": 5844075,
     "sourceId": 9583709,
     "sourceType": "datasetVersion"
    }
   ],
   "dockerImageVersionId": 30787,
   "isGpuEnabled": true,
   "isInternetEnabled": true,
   "language": "python",
   "sourceType": "notebook"
  },
  "kernelspec": {
   "display_name": "Python 3 (ipykernel)",
   "language": "python",
   "name": "python3"
  },
  "language_info": {
   "codemirror_mode": {
    "name": "ipython",
    "version": 3
   },
   "file_extension": ".py",
   "mimetype": "text/x-python",
   "name": "python",
   "nbconvert_exporter": "python",
   "pygments_lexer": "ipython3",
   "version": "3.10.13"
  }
 },
 "nbformat": 4,
 "nbformat_minor": 4
}
